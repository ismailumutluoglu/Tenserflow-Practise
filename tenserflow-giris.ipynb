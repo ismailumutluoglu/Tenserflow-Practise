{
 "cells": [
  {
   "cell_type": "code",
   "execution_count": null,
   "id": "5f3f650f",
   "metadata": {},
   "outputs": [],
   "source": [
    "!pip install --upgrade numpy seaborn matplotlib --user"
   ]
  },
  {
   "cell_type": "code",
   "execution_count": 3,
   "id": "ba0359e3",
   "metadata": {},
   "outputs": [],
   "source": [
    "import pandas as pd\n",
    "import seaborn as sns\n",
    "import matplotlib.pyplot as plt"
   ]
  },
  {
   "cell_type": "code",
   "execution_count": 4,
   "id": "d61b51bf",
   "metadata": {},
   "outputs": [
    {
     "data": {
      "text/html": [
       "<div>\n",
       "<style scoped>\n",
       "    .dataframe tbody tr th:only-of-type {\n",
       "        vertical-align: middle;\n",
       "    }\n",
       "\n",
       "    .dataframe tbody tr th {\n",
       "        vertical-align: top;\n",
       "    }\n",
       "\n",
       "    .dataframe thead th {\n",
       "        text-align: right;\n",
       "    }\n",
       "</style>\n",
       "<table border=\"1\" class=\"dataframe\">\n",
       "  <thead>\n",
       "    <tr style=\"text-align: right;\">\n",
       "      <th></th>\n",
       "      <th>Fiyat</th>\n",
       "      <th>BisikletOzellik1</th>\n",
       "      <th>BisikletOzellik2</th>\n",
       "    </tr>\n",
       "  </thead>\n",
       "  <tbody>\n",
       "    <tr>\n",
       "      <th>0</th>\n",
       "      <td>807.673876</td>\n",
       "      <td>1749.628226</td>\n",
       "      <td>1749.590668</td>\n",
       "    </tr>\n",
       "    <tr>\n",
       "      <th>1</th>\n",
       "      <td>959.227520</td>\n",
       "      <td>1748.007826</td>\n",
       "      <td>1751.824206</td>\n",
       "    </tr>\n",
       "    <tr>\n",
       "      <th>2</th>\n",
       "      <td>718.020033</td>\n",
       "      <td>1750.122967</td>\n",
       "      <td>1747.977026</td>\n",
       "    </tr>\n",
       "    <tr>\n",
       "      <th>3</th>\n",
       "      <td>945.668885</td>\n",
       "      <td>1749.916440</td>\n",
       "      <td>1750.771646</td>\n",
       "    </tr>\n",
       "    <tr>\n",
       "      <th>4</th>\n",
       "      <td>955.542968</td>\n",
       "      <td>1750.780519</td>\n",
       "      <td>1750.592430</td>\n",
       "    </tr>\n",
       "  </tbody>\n",
       "</table>\n",
       "</div>"
      ],
      "text/plain": [
       "        Fiyat  BisikletOzellik1  BisikletOzellik2\n",
       "0  807.673876       1749.628226       1749.590668\n",
       "1  959.227520       1748.007826       1751.824206\n",
       "2  718.020033       1750.122967       1747.977026\n",
       "3  945.668885       1749.916440       1750.771646\n",
       "4  955.542968       1750.780519       1750.592430"
      ]
     },
     "execution_count": 4,
     "metadata": {},
     "output_type": "execute_result"
    }
   ],
   "source": [
    "df = pd.read_excel('bisiklet_fiyatlari.xlsx')\n",
    "df.head()"
   ]
  },
  {
   "cell_type": "code",
   "execution_count": null,
   "id": "8a014225",
   "metadata": {},
   "outputs": [],
   "source": [
    "!pip install tensorflow --user"
   ]
  },
  {
   "cell_type": "code",
   "execution_count": null,
   "id": "8a5772ef",
   "metadata": {},
   "outputs": [],
   "source": [
    "sns.pairplot(df)"
   ]
  },
  {
   "cell_type": "markdown",
   "id": "7a9c584f",
   "metadata": {},
   "source": [
    "## Datayı TEST/TRAIN olarak ayırmak"
   ]
  },
  {
   "cell_type": "code",
   "execution_count": null,
   "id": "7271ce49",
   "metadata": {},
   "outputs": [],
   "source": [
    "from sklearn.model_selection import train_test_split\n"
   ]
  },
  {
   "cell_type": "code",
   "execution_count": null,
   "id": "6c1d3971",
   "metadata": {},
   "outputs": [],
   "source": [
    "#train_test_split önemli"
   ]
  },
  {
   "cell_type": "code",
   "execution_count": null,
   "id": "23d7d143",
   "metadata": {},
   "outputs": [],
   "source": [
    "# y = wx + b \n",
    "# y-> label\n",
    "y = df['Fiyat'].values\n",
    "\n",
    "# x-> feature\n",
    "x = df[[\"BisikletOzellik1\",\"BisikletOzellik2\"]].values\n",
    "\n",
    "x_train , x_test , y_train , y_test = train_test_split(x, y, test_size=0.33, random_state=15)"
   ]
  },
  {
   "cell_type": "code",
   "execution_count": null,
   "id": "7fda17ec",
   "metadata": {},
   "outputs": [],
   "source": [
    "# train\n",
    "x_train.shape"
   ]
  },
  {
   "cell_type": "code",
   "execution_count": null,
   "id": "02364b16",
   "metadata": {},
   "outputs": [],
   "source": [
    "#test \n",
    "x_test.shape"
   ]
  },
  {
   "cell_type": "code",
   "execution_count": null,
   "id": "c58d4c5c",
   "metadata": {},
   "outputs": [],
   "source": [
    "y_train.shape"
   ]
  },
  {
   "cell_type": "code",
   "execution_count": null,
   "id": "ae674019",
   "metadata": {},
   "outputs": [],
   "source": [
    "y_test.shape"
   ]
  },
  {
   "cell_type": "code",
   "execution_count": null,
   "id": "5d85c83f",
   "metadata": {},
   "outputs": [],
   "source": [
    "#scaling"
   ]
  },
  {
   "cell_type": "code",
   "execution_count": null,
   "id": "553fe48c",
   "metadata": {},
   "outputs": [],
   "source": [
    "from sklearn.preprocessing import MinMaxScaler"
   ]
  },
  {
   "cell_type": "code",
   "execution_count": null,
   "id": "d53a388e",
   "metadata": {},
   "outputs": [],
   "source": [
    "scaler = MinMaxScaler()"
   ]
  },
  {
   "cell_type": "code",
   "execution_count": null,
   "id": "d67d8955",
   "metadata": {},
   "outputs": [],
   "source": [
    "scaler.fit(x_train)"
   ]
  },
  {
   "cell_type": "code",
   "execution_count": null,
   "id": "b1f18d0d",
   "metadata": {},
   "outputs": [],
   "source": [
    "x_train = scaler.transform(x_train)\n",
    "x_test = scaler.transform(x_test)"
   ]
  },
  {
   "cell_type": "code",
   "execution_count": null,
   "id": "21044fc4",
   "metadata": {},
   "outputs": [],
   "source": [
    "x_train"
   ]
  },
  {
   "cell_type": "code",
   "execution_count": null,
   "id": "b067ef09",
   "metadata": {},
   "outputs": [],
   "source": [
    "pip install tensorflow --user"
   ]
  },
  {
   "cell_type": "code",
   "execution_count": null,
   "id": "6a66f7c1",
   "metadata": {},
   "outputs": [],
   "source": [
    "import tensorflow as tf\n"
   ]
  },
  {
   "cell_type": "code",
   "execution_count": null,
   "id": "c3d83aa9",
   "metadata": {},
   "outputs": [],
   "source": [
    "from tensorflow.keras.models import Sequential\n",
    "from tensorflow.keras.layers import Dense"
   ]
  },
  {
   "cell_type": "code",
   "execution_count": null,
   "id": "f8b80a9d",
   "metadata": {},
   "outputs": [],
   "source": [
    "model = Sequential()\n",
    "model.add(Dense(4, activation='relu'))\n",
    "model.add(Dense(4, activation='relu'))\n",
    "model.add(Dense(4, activation='relu'))\n",
    "\n",
    "model.add(Dense(1))\n",
    "\n",
    "model.compile(optimizer='rmsprop', loss='mean_squared_error')"
   ]
  },
  {
   "cell_type": "code",
   "execution_count": null,
   "id": "2cb74305",
   "metadata": {},
   "outputs": [],
   "source": [
    "model.fit(x_train, y_train, epochs=250)"
   ]
  },
  {
   "cell_type": "code",
   "execution_count": null,
   "id": "c9386be8",
   "metadata": {},
   "outputs": [],
   "source": [
    "loss = model.history.history['loss']"
   ]
  },
  {
   "cell_type": "code",
   "execution_count": null,
   "id": "7eeba5d1",
   "metadata": {},
   "outputs": [],
   "source": [
    "sns.lineplot(x =range(len(loss)), y=loss)"
   ]
  },
  {
   "cell_type": "code",
   "execution_count": null,
   "id": "7d8486a4",
   "metadata": {},
   "outputs": [],
   "source": [
    "trainLoss = model.evaluate(x_train,y_train, verbose=0)   "
   ]
  },
  {
   "cell_type": "code",
   "execution_count": null,
   "id": "6485d758",
   "metadata": {},
   "outputs": [],
   "source": [
    "testLoss = model.evaluate(x_test,y_test, verbose=0)"
   ]
  },
  {
   "cell_type": "code",
   "execution_count": null,
   "id": "f04392a6",
   "metadata": {},
   "outputs": [],
   "source": [
    "trainLoss"
   ]
  },
  {
   "cell_type": "code",
   "execution_count": null,
   "id": "f9c1ad68",
   "metadata": {},
   "outputs": [],
   "source": [
    "testLoss"
   ]
  },
  {
   "cell_type": "code",
   "execution_count": null,
   "id": "1a3add81",
   "metadata": {},
   "outputs": [],
   "source": [
    "testTahminleri = model.predict(x_test)\n",
    "testTahminleri"
   ]
  },
  {
   "cell_type": "code",
   "execution_count": null,
   "id": "a844b943",
   "metadata": {},
   "outputs": [],
   "source": [
    "tahminDf = pd.DataFrame(y_test, columns=['Gercek Fiyat'])\n",
    "tahminDf"
   ]
  },
  {
   "cell_type": "code",
   "execution_count": null,
   "id": "4df28a00",
   "metadata": {},
   "outputs": [],
   "source": [
    "testTahminleri = pd.Series(testTahminleri)\n",
    "testTahminleri"
   ]
  },
  {
   "cell_type": "code",
   "execution_count": null,
   "id": "7da12ee3",
   "metadata": {},
   "outputs": [],
   "source": [
    "tahminDf = pd.concat([tahminDf, testTahminleri], axis=1)\n",
    "tahminDf"
   ]
  },
  {
   "cell_type": "code",
   "execution_count": null,
   "id": "c7e18c52",
   "metadata": {},
   "outputs": [],
   "source": [
    "tahminDf"
   ]
  },
  {
   "cell_type": "code",
   "execution_count": null,
   "id": "a70df3b9",
   "metadata": {},
   "outputs": [],
   "source": [
    "tahminDf.columns = ['Gercek Fiyat', 'Tahmin Edilen Fiyat']\n",
    "tahminDf"
   ]
  },
  {
   "cell_type": "code",
   "execution_count": null,
   "id": "7c3dad13",
   "metadata": {},
   "outputs": [],
   "source": [
    "sns.scatterplot(data=tahminDf, x='Gercek Fiyat', y='Tahmin Edilen Fiyat')"
   ]
  },
  {
   "cell_type": "code",
   "execution_count": null,
   "id": "bb146825",
   "metadata": {},
   "outputs": [],
   "source": [
    "from sklearn.metrics import mean_absolute_error, mean_squared_error"
   ]
  },
  {
   "cell_type": "code",
   "execution_count": null,
   "id": "20117615",
   "metadata": {},
   "outputs": [],
   "source": [
    "mean_absolute_error(tahminDf['Gercek Fiyat'], tahminDf['Tahmin Edilen Fiyat'])"
   ]
  },
  {
   "cell_type": "code",
   "execution_count": null,
   "id": "094b5d9a",
   "metadata": {},
   "outputs": [],
   "source": [
    "mean_squared_error(tahminDf['Gercek Fiyat'], tahminDf['Tahmin Edilen Fiyat'])"
   ]
  },
  {
   "cell_type": "code",
   "execution_count": null,
   "id": "da3770dd",
   "metadata": {},
   "outputs": [],
   "source": [
    "df.describe()"
   ]
  },
  {
   "cell_type": "code",
   "execution_count": null,
   "id": "1fb90098",
   "metadata": {},
   "outputs": [],
   "source": [
    "yeniBisikletÖzellikleri = [[1760,1758]]"
   ]
  },
  {
   "cell_type": "code",
   "execution_count": null,
   "id": "d1f1f9a3",
   "metadata": {},
   "outputs": [],
   "source": [
    "yeniBisikletÖzellikleri = scaler.transform(yeniBisikletÖzellikleri)"
   ]
  },
  {
   "cell_type": "code",
   "execution_count": null,
   "id": "35cab132",
   "metadata": {},
   "outputs": [],
   "source": [
    "model.predict(yeniBisikletÖzellikleri)"
   ]
  },
  {
   "cell_type": "code",
   "execution_count": null,
   "id": "e7704cd2",
   "metadata": {},
   "outputs": [],
   "source": [
    "from tensorflow.keras.models import load_model"
   ]
  },
  {
   "cell_type": "code",
   "execution_count": null,
   "id": "08cb9161",
   "metadata": {},
   "outputs": [],
   "source": [
    "model.save('bisiklet_fiyat_modeli.h5')"
   ]
  },
  {
   "cell_type": "code",
   "execution_count": null,
   "id": "bc5f70da",
   "metadata": {},
   "outputs": [],
   "source": [
    "sonradanCagirilanModel = load_model('bisiklet_fiyat_modeli.h5')"
   ]
  },
  {
   "cell_type": "code",
   "execution_count": null,
   "id": "14429716",
   "metadata": {},
   "outputs": [],
   "source": [
    "sonradanCagirilanModel.predict(yeniBisikletÖzellikleri)"
   ]
  },
  {
   "cell_type": "code",
   "execution_count": null,
   "id": "c8a6b247",
   "metadata": {},
   "outputs": [],
   "source": []
  }
 ],
 "metadata": {
  "kernelspec": {
   "display_name": "Python 3",
   "language": "python",
   "name": "python3"
  },
  "language_info": {
   "codemirror_mode": {
    "name": "ipython",
    "version": 3
   },
   "file_extension": ".py",
   "mimetype": "text/x-python",
   "name": "python",
   "nbconvert_exporter": "python",
   "pygments_lexer": "ipython3",
   "version": "3.10.0"
  }
 },
 "nbformat": 4,
 "nbformat_minor": 5
}
